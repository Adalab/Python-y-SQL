{
 "cells": [
  {
   "attachments": {},
   "cell_type": "markdown",
   "metadata": {},
   "source": [
    "1. Vamos a crear una \"Calculadora de puntos\". Tenéis que escribir una calculadora que reciba cadenas de caracteres como entrada. Los puntos representarán el número de la ecuación. Habrá puntos en un lado, un operador, y puntos de nuevo después del oparador. Los puntos y el operador estarán separados por un espacio.\n",
    "\n",
    "Tendréis que devolver un string que contenga puntos, tantos como devuelva la ecuación. Si el resultado es 0, devuelve la cadena vacía. Cuando se trata de una resta, el primer número siempre será mayor o igual que el segundo.\n",
    "\n",
    "Probad la función con los siguientes casos: \n",
    "\n",
    "\"..... + ...............\" => \"....................\"\n",
    "\n",
    "\"..... - ...\" => \"..\"\n",
    "\n",
    "\"..... * ...\" => \"...............\"\n",
    "\n",
    "\"..... // ..\" => \"..\"\n",
    "\n",
    "\". // ..\" => \"\"\n",
    "\n",
    "\".. - ..\" => \"\""
   ]
  },
  {
   "cell_type": "code",
   "execution_count": 1,
   "metadata": {},
   "outputs": [],
   "source": [
    "def calculadora_puntos(string1, string2, operacion):\n",
    "    \"\"\" esta función va a realizar operaciones con cadenas de caracteres\n",
    "\n",
    "    Args:\n",
    "        string1 cadena caracteres formada por puntos\n",
    "        string2 cadena caracteres formada por puntos\n",
    "        en caso de resta, string1 debe ser mayor que string2\n",
    "    \"\"\"\n",
    "\n",
    "    operaciones = operacion.lower()\n",
    "\n",
    "    a = string1.count(\".\")\n",
    "    b = string2.count(\".\")\n",
    "\n",
    "    if operaciones == \"suma\":\n",
    "        return (a + b ) * \".\"\n",
    "    elif operaciones == \"resta\":\n",
    "        if a > b:\n",
    "            return ( a - b) * \".\"\n",
    "        else:\n",
    "            print(\"no es posible hacer esta operación\")\n",
    "    elif operaciones == \"multiplicacion\":\n",
    "        return  (a * b) * \".\"\n",
    "    elif operaciones == \"division\":\n",
    "        return round(a / b ) * \".\"\n",
    "    else:\n",
    "        print(\"no es la operación correcta\")"
   ]
  },
  {
   "cell_type": "code",
   "execution_count": 2,
   "metadata": {},
   "outputs": [
    {
     "data": {
      "text/plain": [
       "'...............'"
      ]
     },
     "execution_count": 2,
     "metadata": {},
     "output_type": "execute_result"
    }
   ],
   "source": [
    "calculadora_puntos(\".....\", \"...\", \"multiplicacion\")"
   ]
  },
  {
   "cell_type": "code",
   "execution_count": 3,
   "metadata": {},
   "outputs": [
    {
     "name": "stdout",
     "output_type": "stream",
     "text": [
      "20\n"
     ]
    }
   ],
   "source": [
    "prueba = \"....................\" \n",
    "print(prueba.count(\".\"))"
   ]
  },
  {
   "attachments": {},
   "cell_type": "markdown",
   "metadata": {},
   "source": [
    "2. Te despides de tu mejor amigo, \"Nos vemos el próximo año\".Dado un año, encuentra el próximo cumpleaños o el año más cercano en el que verás a tu mejor amigo.\n",
    "Condiciones\n",
    "\n",
    "Año siempre positivo.\n",
    "\n",
    "El siguiente año que le felicites a tu mejor amigo no puede tener ningún dígito repetido.\n",
    "\n",
    "Probad la función con los siguientes casos:\n",
    "\n",
    "7712 ==> El siguiente año que felicitarás a tu amigo será el 7801. \n",
    "Por que es el siguiente año en el que no hay ninguún dígito repetido. \n",
    "\n",
    "\n",
    "1001 => 1023 \n",
    "\n",
    "1123 => 1203\n",
    "\n",
    "2001 => 2013"
   ]
  },
  {
   "cell_type": "code",
   "execution_count": 4,
   "metadata": {},
   "outputs": [],
   "source": [
    "def cumpleanos(fecha):\n",
    "    if fecha < 0:\n",
    "        print('Este año no es válido')\n",
    "    else:\n",
    "        fecha += 1\n",
    "        fecha_string = str(fecha)\n",
    "        for i in fecha_string:\n",
    "            if fecha_string.count(i) > 1:\n",
    "               return cumpleanos(fecha)\n",
    "        return fecha     "
   ]
  },
  {
   "cell_type": "code",
   "execution_count": 11,
   "metadata": {},
   "outputs": [
    {
     "data": {
      "text/plain": [
       "2013"
      ]
     },
     "execution_count": 11,
     "metadata": {},
     "output_type": "execute_result"
    }
   ],
   "source": [
    "cumpleanos(2001)"
   ]
  },
  {
   "attachments": {},
   "cell_type": "markdown",
   "metadata": {},
   "source": [
    "3. Tenéis que crear un función que chequee la vida de un evaporador que contiene un gas.\n",
    "Conocemos el contenido del evaporador (contenido en ml), el porcentaje de gas que se pierde cada día y el umbral en porcentaje a partir del cual el evaporador deja de ser útil. Todos los números serán estrictamente positivos.\n",
    " Nota: el contenido no es, de hecho, necesario en el cuerpo de la función, podéis utilizarlo o no.\n",
    "\n",
    " Probad con los siguientes casos: \n",
    "\n",
    "10, 10, 5 => 29\n",
    "\n",
    "10, 10, 10 = > 22"
   ]
  },
  {
   "cell_type": "code",
   "execution_count": 19,
   "metadata": {},
   "outputs": [],
   "source": [
    "#recursividad antiguo, no saca el resultado\n",
    "def evaporador (total, evaporacion, umbral):\n",
    "    dias = 0\n",
    "    while total > umbral:\n",
    "        total -= (total * evaporacion /100)\n",
    "        dias += 1\n",
    "        print(f'{total}, {evaporacion}, {dias}')\n",
    "        return evaporador(total, evaporacion, umbral)\n",
    "    return dias"
   ]
  },
  {
   "cell_type": "code",
   "execution_count": 20,
   "metadata": {},
   "outputs": [
    {
     "name": "stdout",
     "output_type": "stream",
     "text": [
      "90.0, 10, 1\n",
      "81.0, 10, 1\n",
      "72.9, 10, 1\n",
      "65.61, 10, 1\n",
      "59.049, 10, 1\n",
      "53.1441, 10, 1\n",
      "47.82969, 10, 1\n",
      "43.046721, 10, 1\n",
      "38.7420489, 10, 1\n",
      "34.86784401, 10, 1\n",
      "31.381059608999998, 10, 1\n",
      "28.2429536481, 10, 1\n",
      "25.41865828329, 10, 1\n",
      "22.876792454961, 10, 1\n",
      "20.589113209464898, 10, 1\n",
      "18.53020188851841, 10, 1\n",
      "16.67718169966657, 10, 1\n",
      "15.009463529699913, 10, 1\n",
      "13.50851717672992, 10, 1\n",
      "12.157665459056929, 10, 1\n",
      "10.941898913151237, 10, 1\n",
      "9.847709021836113, 10, 1\n"
     ]
    },
    {
     "data": {
      "text/plain": [
       "0"
      ]
     },
     "execution_count": 20,
     "metadata": {},
     "output_type": "execute_result"
    }
   ],
   "source": [
    "evaporador(100, 10, 10)"
   ]
  },
  {
   "cell_type": "code",
   "execution_count": 48,
   "metadata": {},
   "outputs": [],
   "source": [
    "def evaporador (total, evaporacion, umbral, vida_util = 0):\n",
    "    while total > umbral:\n",
    "        total -= (total * evaporacion /100)\n",
    "        vida_util += 1\n",
    "        # print(f'{total}, {evaporacion}')\n",
    "        return evaporador(total, evaporacion, umbral, vida_util)\n",
    "    return vida_util"
   ]
  },
  {
   "cell_type": "code",
   "execution_count": 50,
   "metadata": {},
   "outputs": [
    {
     "data": {
      "text/plain": [
       "29"
      ]
     },
     "execution_count": 50,
     "metadata": {},
     "output_type": "execute_result"
    }
   ],
   "source": [
    "evaporador(100, 10, 5)"
   ]
  },
  {
   "attachments": {},
   "cell_type": "markdown",
   "metadata": {},
   "source": [
    "4. Definid una función que tome como argumento un entero y devuelva True o False dependiendo de si el número es primo o no.\n",
    "Según la Wikipedia, un número primo es un número natural mayor que 1 que no tiene divisores positivos más que 1 y él mismo.\n",
    "\n",
    "Probad la función con los siguientes números: \n",
    "\n",
    "0 => False\n",
    "\n",
    "2 => True\n",
    "\n",
    "73 => True\n",
    "\n",
    "-1 => False\n",
    "\n",
    "5099 => True"
   ]
  },
  {
   "cell_type": "code",
   "execution_count": 41,
   "metadata": {},
   "outputs": [],
   "source": [
    "def primo(numero):\n",
    "\n",
    "    divisores = []\n",
    "\n",
    "    if numero == 0:\n",
    "        return False\n",
    "    elif numero < 0:\n",
    "        return False\n",
    "    else: \n",
    "        for num in range(1,numero):  \n",
    "            if numero % num == 0:\n",
    "                divisores.append(num)\n",
    "        if len(divisores) == 1:\n",
    "            return True   \n",
    "        else:\n",
    "            return False     \n",
    "            \n",
    "\n",
    "            "
   ]
  },
  {
   "cell_type": "code",
   "execution_count": 47,
   "metadata": {},
   "outputs": [
    {
     "data": {
      "text/plain": [
       "True"
      ]
     },
     "execution_count": 47,
     "metadata": {},
     "output_type": "execute_result"
    }
   ],
   "source": [
    "primo(5099)"
   ]
  },
  {
   "attachments": {},
   "cell_type": "markdown",
   "metadata": {},
   "source": [
    "5. Probablemente conozcais el sistema de \"me gusta\" de Facebook y otras páginas. La gente puede dar \"me gusta\" a las publicaciones del blog, a las imágenes o a otros elementos. Queremos crear el texto que debe mostrarse junto a dicho elemento.\n",
    "Cread una función que toma una lista que contiene los nombres de las personas a las que les gusta un artículo. Debe devolver el texto que se muestra en los ejemplos:\n",
    "\n",
    "Probad los siguientes ejemplos: \n",
    "\n",
    "[]                              -->  \"A nadie le gusta esto\"\n",
    "\n",
    "[\"Paola\"]                       -->  \"A Paola le gusta esto\"\n",
    "\n",
    "[\"Jacoba\", \"Alex\"]               -->  \"A Jacoba y Alex les gusta esto\"\n",
    "\n",
    "[\"Maria\", \"Juana\", \"Lola\"]         -->  \"A Maria, Juana y Lola les gusta esto\"\n",
    "\n",
    "[\"Alex\", \"Jacoba\", \"Lola\", \"Carmen\"]-->  \"A Alex, Jacob ay 2 más les gusta esto\"\n",
    "\n",
    "[\"Alex\", \"Jacoba\", \"Lola\", \"Carmen\", \"Mariana\"]-->  \"A Alex, Jacoba y 3 más les gusta esto\"\n",
    "\n",
    "Nota: Para 4 o más nombres, el número en \"y otros 2\" simplemente aumenta."
   ]
  },
  {
   "cell_type": "code",
   "execution_count": 16,
   "metadata": {},
   "outputs": [],
   "source": [
    "def me_gusta(*argnombres):\n",
    "    lista_nombres = []\n",
    "    lista_nombres = list(argnombres)\n",
    "    if len(lista_nombres) == 0:\n",
    "        return 'a nadie le gusta esto'\n",
    "    elif len(lista_nombres) == 1:\n",
    "        return (f'a {lista_nombres[0]} le gusta esto')\n",
    "    elif len(lista_nombres) == 2:\n",
    "        return (f'a {lista_nombres[0]} y {lista_nombres[1]} les gusta esto')\n",
    "    elif len(lista_nombres) == 3:\n",
    "        return (f'a {lista_nombres[0]}, {lista_nombres[1]} y {lista_nombres[2]} les gusta esto')\n",
    "    elif len(lista_nombres) >= 4:\n",
    "        return (f'a {lista_nombres[0]}, {lista_nombres[1]} y {len(lista_nombres) - 2} más les gusta esto')"
   ]
  },
  {
   "cell_type": "code",
   "execution_count": 17,
   "metadata": {},
   "outputs": [
    {
     "data": {
      "text/plain": [
       "'a Marina, Carlos y 4 más les gusta esto'"
      ]
     },
     "execution_count": 17,
     "metadata": {},
     "output_type": "execute_result"
    }
   ],
   "source": [
    "\n",
    "me_gusta(\"Marina\", \"Carlos\", \"Pedro\", \"Ana\", \"Lucía\", \"César\")"
   ]
  }
 ],
 "metadata": {
  "kernelspec": {
   "display_name": "base",
   "language": "python",
   "name": "python3"
  },
  "language_info": {
   "codemirror_mode": {
    "name": "ipython",
    "version": 3
   },
   "file_extension": ".py",
   "mimetype": "text/x-python",
   "name": "python",
   "nbconvert_exporter": "python",
   "pygments_lexer": "ipython3",
   "version": "3.9.7"
  },
  "orig_nbformat": 4
 },
 "nbformat": 4,
 "nbformat_minor": 2
}
