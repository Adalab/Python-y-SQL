{
 "cells": [
  {
   "attachments": {},
   "cell_type": "markdown",
   "metadata": {},
   "source": [
    "Creación de carpetas y movimientos entre ellas"
   ]
  },
  {
   "cell_type": "code",
   "execution_count": 2,
   "metadata": {},
   "outputs": [],
   "source": [
    "import os"
   ]
  },
  {
   "cell_type": "code",
   "execution_count": 1,
   "metadata": {},
   "outputs": [],
   "source": [
    "def crear_carpetas(carp1, carp2, nuevo_nombre):\n",
    "\n",
    "    directorio = os.getcwd()\n",
    "    print(directorio)\n",
    "\n",
    "\n",
    "    lista_ficheros = os.listdir(directorio)\n",
    "\n",
    "    print(lista_ficheros)\n",
    "    if carp1 in lista_ficheros:\n",
    "        print('Esta carpeta ya exista')\n",
    "    else:\n",
    "        os.mkdir(f'{carp1}')\n",
    "        print(f'Se ha creado la carpeta {carp1}')\n",
    "\n",
    "    os.chdir(f\"{directorio}/{carp1}\")\n",
    "    lista_ficheros_carpeta = os.listdir()\n",
    "    if carp2 in lista_ficheros_carpeta:\n",
    "        print('Esta carpeta ya exista')\n",
    "    else:\n",
    "        os.mkdir(f'{carp2}')\n",
    "        print(f'Se ha creado la carpeta {carp2}')\n",
    "    \n",
    "\n",
    "    nueva_lista_ficheros = os.listdir(f\"{directorio}/{carp1}\")\n",
    "    if \"saludo.txt\" in nueva_lista_ficheros:\n",
    "        shutil.move(\"saludo.txt\", f\"{directorio}/{carp1}/{carp2}\")\n",
    "\n",
    "    os.chdir(f\"{directorio}/{carp1}/{carp2}\")\n",
    "\n",
    "    directorio_actual = os.getcwd()\n",
    "    print(f'Estamos trabajando en {directorio_actual}')\n",
    "    os.chdir(f\"{directorio}\")\n",
    "    os.rename(f'{carp1}', f'{nuevo_nombre}')"
   ]
  },
  {
   "attachments": {},
   "cell_type": "markdown",
   "metadata": {},
   "source": [
    "Archivos XML"
   ]
  },
  {
   "cell_type": "code",
   "execution_count": 53,
   "metadata": {},
   "outputs": [],
   "source": [
    "import xml.etree.ElementTree as ET"
   ]
  },
  {
   "cell_type": "code",
   "execution_count": 71,
   "metadata": {},
   "outputs": [
    {
     "name": "stdout",
     "output_type": "stream",
     "text": [
      "El año de estreno fue 1981\n",
      "La descripción es: \n",
      "                'Archaeologist and adventurer Indiana Jones \n",
      "                is hired by the U.S. government to find the Ark of  the Covenant before the Nazis.'\n",
      "                \n",
      "----------\n",
      "El año de estreno fue 1984\n",
      "La descripción es: None provided.\n",
      "----------\n",
      "El año de estreno fue 1985\n",
      "La descripción es: Marty McFly\n",
      "----------\n",
      "El año de estreno fue 2000\n",
      "La descripción es: Two mutants come to a private academy for their kind whose resident superhero team must oppose a terrorist organization with similar powers.\n",
      "----------\n",
      "El año de estreno fue 1992\n",
      "La descripción es: NA.\n",
      "----------\n",
      "El año de estreno fue 1992\n",
      "La descripción es: WhAtEvER I Want!!!?!\n",
      "----------\n",
      "El año de estreno fue 1979\n",
      "La descripción es: \"\"\"\"\"\"\"\"\"\n",
      "----------\n",
      "El año de estreno fue 1986\n",
      "La descripción es: Funny movie on funny guy \n",
      "----------\n",
      "El año de estreno fue 2000\n",
      "La descripción es: psychopathic Bateman\n",
      "----------\n"
     ]
    }
   ],
   "source": [
    "def ver_pelis_xml(archivo, carpeta):\n",
    "\n",
    "    \n",
    "    tree = ET.parse(carpeta)\n",
    "    \n",
    "    root = tree.getroot()\n",
    "\n",
    "    for grandmother in root:\n",
    "        pass\n",
    "        for mother in grandmother:\n",
    "            pass\n",
    "        #print('El título es:', mother.find('movie').find('favourite').find('title').text)\n",
    "            for child in mother:\n",
    "                print('El año de estreno fue', child.find('year').text)\n",
    "                print('La descripción es:', child.find('description').text) \n",
    "                print('----------')\n",
    "    "
   ]
  },
  {
   "cell_type": "code",
   "execution_count": 66,
   "metadata": {},
   "outputs": [],
   "source": [
    "tree = ET.parse('peliculas.xml')"
   ]
  }
 ],
 "metadata": {
  "kernelspec": {
   "display_name": "base",
   "language": "python",
   "name": "python3"
  },
  "language_info": {
   "codemirror_mode": {
    "name": "ipython",
    "version": 3
   },
   "file_extension": ".py",
   "mimetype": "text/x-python",
   "name": "python",
   "nbconvert_exporter": "python",
   "pygments_lexer": "ipython3",
   "version": "3.9.7"
  },
  "orig_nbformat": 4
 },
 "nbformat": 4,
 "nbformat_minor": 2
}
