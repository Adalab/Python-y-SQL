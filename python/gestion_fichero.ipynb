{
 "cells": [
  {
   "attachments": {},
   "cell_type": "markdown",
   "metadata": {},
   "source": [
    "Creación de carpetas y movimientos entre ellas"
   ]
  },
  {
   "cell_type": "code",
   "execution_count": 1,
   "metadata": {},
   "outputs": [],
   "source": [
    "import os"
   ]
  },
  {
   "attachments": {},
   "cell_type": "markdown",
   "metadata": {},
   "source": [
    "1.Nos muestre en que carpeta estamos trabajando.\n",
    "\n",
    "2.Cree una carpeta que se llame \"aprendiendo-ficheros\". ⚠️ Tened en cuenta que si la carpeta ya existe no la podemos crear, nos devolverá un error. Incluye en la función un programa que evite que nos de un error si la carpeta ya existe.\n",
    "\n",
    "3.Cree otra carpeta que se llame \"datos\" dentro de la carpeta \"aprendiendo-ficheros\". En esta carpeta \"datos\" guardaremos el fichero \"saludo.txt\" que os habéis descargado.\n",
    "\n",
    "4.Cambiad el directorio de trabajo a la carpeta \"datos\". Antes de seguir chequead que estáis trabajando en la carpeta \"datos\".\n",
    "\n",
    "5.Cambiad el nombre de la carpeta creada en el punto 2 a \"primera-toma-contacto\""
   ]
  },
  {
   "cell_type": "code",
   "execution_count": 2,
   "metadata": {},
   "outputs": [],
   "source": [
    "def crear_carpetas(carp1, carp2, nuevo_nombre):\n",
    "\n",
    "    directorio = os.getcwd()\n",
    "    print(directorio)\n",
    "\n",
    "\n",
    "    lista_ficheros = os.listdir(directorio)\n",
    "\n",
    "    print(lista_ficheros)\n",
    "    if carp1 in lista_ficheros:\n",
    "        print('Esta carpeta ya exista')\n",
    "    else:\n",
    "        os.mkdir(f'{carp1}')\n",
    "        print(f'Se ha creado la carpeta {carp1}')\n",
    "\n",
    "    os.chdir(f\"{directorio}/{carp1}\")\n",
    "    lista_ficheros_carpeta = os.listdir()\n",
    "    if carp2 in lista_ficheros_carpeta:\n",
    "        print('Esta carpeta ya exista')\n",
    "    else:\n",
    "        os.mkdir(f'{carp2}')\n",
    "        print(f'Se ha creado la carpeta {carp2}')\n",
    "\n",
    "\n",
    "    os.chdir(f\"{directorio}/{carp1}/{carp2}\")\n",
    "\n",
    "    directorio_actual = os.getcwd()\n",
    "    print(f'Estamos trabajando en {directorio_actual}')\n",
    "    os.chdir(f\"{directorio}\")\n",
    "    os.rename(f'{carp1}', f'{nuevo_nombre}')"
   ]
  },
  {
   "cell_type": "code",
   "execution_count": 5,
   "metadata": {},
   "outputs": [
    {
     "name": "stdout",
     "output_type": "stream",
     "text": [
      "/home/adalaber/Escritorio/Adalab/m1/sprint2/pair/promo-d-da-modulo1-sprint2-Iris_Silvia/python\n",
      "['funciones_2.ipynb', 'clases.ipynb', 'pairpruebas.ipynb', 'peliculas.xml', 'regex_def.ipynb', 'email.txt', 'funciones_1.ipynb', 'p_sql_1.ipynb', 'saludo.txt']\n",
      "Se ha creado la carpeta aprendiendo-ficheros\n",
      "Se ha creado la carpeta datos\n",
      "Estamos trabajando en /home/adalaber/Escritorio/Adalab/m1/sprint2/pair/promo-d-da-modulo1-sprint2-Iris_Silvia/python/aprendiendo-ficheros/datos\n"
     ]
    }
   ],
   "source": [
    "crear_carpetas('aprendiendo-ficheros', 'datos', 'primera_toma_contacto')"
   ]
  },
  {
   "attachments": {},
   "cell_type": "markdown",
   "metadata": {},
   "source": [
    "Archivos XML"
   ]
  },
  {
   "attachments": {},
   "cell_type": "markdown",
   "metadata": {},
   "source": [
    "1.Qué tag y atributos tiene el archivo xml.\n",
    "\n",
    "2.La descripción de cada una de las películas que tenemos en ese archivo.\n",
    "\n",
    "3.Los años en que fueron estrenadas las películas."
   ]
  },
  {
   "cell_type": "code",
   "execution_count": 4,
   "metadata": {},
   "outputs": [],
   "source": [
    "import xml.etree.ElementTree as ET"
   ]
  },
  {
   "cell_type": "code",
   "execution_count": 37,
   "metadata": {},
   "outputs": [],
   "source": [
    "def ver_pelis_xml(archivo):\n",
    "\n",
    "    \n",
    "    tree = ET.parse(archivo)\n",
    "    \n",
    "    root = tree.getroot()\n",
    "  \n",
    "    tags = [root.tag]\n",
    "    atributos = [root.attrib]\n",
    "\n",
    "    for grandmother in root:\n",
    "        tags.append(grandmother.tag)\n",
    "        atributos.append(grandmother.attrib)\n",
    "\n",
    "        for mother in grandmother:\n",
    "            tags.append(mother.tag)\n",
    "            atributos.append(mother.attrib)\n",
    "            for child in mother:\n",
    "                tags.append(child.tag)\n",
    "                atributos.append(child.attrib)\n",
    "                print('El título es:', child.attrib['title'])\n",
    "                print('El año de estreno fue', child.find('year').text)\n",
    "                print('La descripción es:', child.find('description').text) \n",
    "                print('----------')\n",
    "            \n",
    "    return f'Los tags son{tags} y los atributos son {atributos}'"
   ]
  },
  {
   "cell_type": "code",
   "execution_count": 38,
   "metadata": {},
   "outputs": [
    {
     "name": "stdout",
     "output_type": "stream",
     "text": [
      "El título es: Indiana Jones: The raiders of the lost Ark\n",
      "El año de estreno fue 1981\n",
      "La descripción es: \n",
      "                'Archaeologist and adventurer Indiana Jones \n",
      "                is hired by the U.S. government to find the Ark of  the Covenant before the Nazis.'\n",
      "                \n",
      "----------\n",
      "El título es: THE KARATE KID\n",
      "El año de estreno fue 1984\n",
      "La descripción es: None provided.\n",
      "----------\n",
      "El título es: Back 2 the Future\n",
      "El año de estreno fue 1985\n",
      "La descripción es: Marty McFly\n",
      "----------\n",
      "El título es: X-Men\n",
      "El año de estreno fue 2000\n",
      "La descripción es: Two mutants come to a private academy for their kind whose resident superhero team must oppose a terrorist organization with similar powers.\n",
      "----------\n",
      "El título es: Batman Returns\n",
      "El año de estreno fue 1992\n",
      "La descripción es: NA.\n",
      "----------\n",
      "El título es: Reservoir Dogs\n",
      "El año de estreno fue 1992\n",
      "La descripción es: WhAtEvER I Want!!!?!\n",
      "----------\n",
      "El título es: ALIEN\n",
      "El año de estreno fue 1979\n",
      "La descripción es: \"\"\"\"\"\"\"\"\"\n",
      "----------\n",
      "El título es: Ferris Bueller's Day Off\n",
      "El año de estreno fue 1986\n",
      "La descripción es: Funny movie on funny guy \n",
      "----------\n",
      "El título es: American Psycho\n",
      "El año de estreno fue 2000\n",
      "La descripción es: psychopathic Bateman\n",
      "----------\n"
     ]
    },
    {
     "data": {
      "text/plain": [
       "'Los tags son[\\'collection\\', \\'genre\\', \\'decade\\', \\'movie\\', \\'movie\\', \\'movie\\', \\'decade\\', \\'movie\\', \\'movie\\', \\'movie\\', \\'genre\\', \\'decade\\', \\'movie\\', \\'decade\\', \\'movie\\', \\'movie\\'] y los atributos son [{}, {\\'category\\': \\'Action\\'}, {\\'years\\': \\'1980s\\'}, {\\'favorite\\': \\'True\\', \\'title\\': \\'Indiana Jones: The raiders of the lost Ark\\'}, {\\'favorite\\': \\'True\\', \\'title\\': \\'THE KARATE KID\\'}, {\\'favorite\\': \\'False\\', \\'title\\': \\'Back 2 the Future\\'}, {\\'years\\': \\'1990s\\'}, {\\'favorite\\': \\'False\\', \\'title\\': \\'X-Men\\'}, {\\'favorite\\': \\'True\\', \\'title\\': \\'Batman Returns\\'}, {\\'favorite\\': \\'False\\', \\'title\\': \\'Reservoir Dogs\\'}, {\\'category\\': \\'Thriller\\'}, {\\'years\\': \\'1970s\\'}, {\\'favorite\\': \\'False\\', \\'title\\': \\'ALIEN\\'}, {\\'years\\': \\'1980s\\'}, {\\'favorite\\': \\'True\\', \\'title\\': \"Ferris Bueller\\'s Day Off\"}, {\\'favorite\\': \\'FALSE\\', \\'title\\': \\'American Psycho\\'}]'"
      ]
     },
     "execution_count": 38,
     "metadata": {},
     "output_type": "execute_result"
    }
   ],
   "source": [
    "ver_pelis_xml('peliculas.xml')"
   ]
  }
 ],
 "metadata": {
  "kernelspec": {
   "display_name": "base",
   "language": "python",
   "name": "python3"
  },
  "language_info": {
   "codemirror_mode": {
    "name": "ipython",
    "version": 3
   },
   "file_extension": ".py",
   "mimetype": "text/x-python",
   "name": "python",
   "nbconvert_exporter": "python",
   "pygments_lexer": "ipython3",
   "version": "3.9.7"
  },
  "orig_nbformat": 4
 },
 "nbformat": 4,
 "nbformat_minor": 2
}
