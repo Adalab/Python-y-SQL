{
 "cells": [
  {
   "attachments": {},
   "cell_type": "markdown",
   "metadata": {},
   "source": [
    "Nuestro jefe nos pide que creemos una clase para tener más ordenada la información sobre cada uno de los empleados de la empresa. Para ello:\n",
    "\n",
    "-Definid una clase que se llame Empleados\n",
    "\n",
    "-Definid los siguientes atributos que caracterizan a nuestros empleados:\n",
    "\n",
    "    nombre\n",
    "    \n",
    "    apellido\n",
    "\n",
    "    edad\n",
    "\n",
    "    posición que ocupa en la empresa\n",
    "\n",
    "    año en que entró en la empresa\n",
    "\n",
    "    número de días de vacaciones que tiene\n",
    "\n",
    "    herramientas que usa cada uno de ellos\n",
    "\n",
    "\n",
    "-Cread una instancia para la clase creada\n",
    "\n",
    "-Definid los siguientes métodos:\n",
    "\n",
    "    descripción\n",
    "\n",
    "    calculo_vacaciones\n",
    "\n",
    "    cambiando_posicion"
   ]
  },
  {
   "cell_type": "code",
   "execution_count": 35,
   "metadata": {},
   "outputs": [],
   "source": [
    "class Empleados: \n",
    "\n",
    "    def __init__(self, nombre, apellido, edad, puesto, entrada, vacaciones, tools):\n",
    "\n",
    "        self.nombre = nombre\n",
    "        self.apellido = apellido\n",
    "        self.edad = edad\n",
    "        self.puesto = puesto\n",
    "        self.entrada = entrada\n",
    "        self.vacaciones = vacaciones\n",
    "        self.tools = tools"
   ]
  },
  {
   "cell_type": "code",
   "execution_count": 38,
   "metadata": {},
   "outputs": [],
   "source": [
    "prof_pociones = Empleados('Severus', 'Snape', 67, 'Profesor', 1983, 30, ['Excel', 'Calderos']prof_pociones)"
   ]
  },
  {
   "cell_type": "code",
   "execution_count": 42,
   "metadata": {},
   "outputs": [],
   "source": [
    "class Empleados: \n",
    "\n",
    "    def __init__(self, nombre, apellido, edad, puesto, entrada, vacaciones, tools):\n",
    "\n",
    "        self.nombre = nombre\n",
    "        self.apellido = apellido\n",
    "        self.edad = edad\n",
    "        self.puesto = puesto\n",
    "        self.entrada = entrada\n",
    "        self.vacaciones = vacaciones\n",
    "        self.tools = tools\n",
    "\n",
    "    def descripcion(self):\n",
    "        return f'El/ella es {self.nombre} {self.apellido}, {self.puesto}, quien lleva con nosotros desde {self.entrada}. Además este año le quedan {self.vacaciones} días de vacaciones' "
   ]
  },
  {
   "cell_type": "code",
   "execution_count": 43,
   "metadata": {},
   "outputs": [],
   "source": [
    "prof_pociones = Empleados('Severus', 'Snape', 67, 'Profesor', 1983, 30, ['Excel', 'Calderos'])"
   ]
  },
  {
   "cell_type": "code",
   "execution_count": 44,
   "metadata": {},
   "outputs": [
    {
     "data": {
      "text/plain": [
       "'El/ella es Severus Snape, Profesor, quien lleva con nosotros desde 1983. Además este año le quedan 30 días de vacaciones'"
      ]
     },
     "execution_count": 44,
     "metadata": {},
     "output_type": "execute_result"
    }
   ],
   "source": [
    "prof_pociones.descripcion()"
   ]
  },
  {
   "cell_type": "code",
   "execution_count": 16,
   "metadata": {},
   "outputs": [
    {
     "data": {
      "text/plain": [
       "<__main__.Empleados at 0x7f470c6a7730>"
      ]
     },
     "execution_count": 16,
     "metadata": {},
     "output_type": "execute_result"
    }
   ],
   "source": [
    "prof_pociones"
   ]
  }
 ],
 "metadata": {
  "kernelspec": {
   "display_name": "base",
   "language": "python",
   "name": "python3"
  },
  "language_info": {
   "codemirror_mode": {
    "name": "ipython",
    "version": 3
   },
   "file_extension": ".py",
   "mimetype": "text/x-python",
   "name": "python",
   "nbconvert_exporter": "python",
   "pygments_lexer": "ipython3",
   "version": "3.9.7"
  },
  "orig_nbformat": 4
 },
 "nbformat": 4,
 "nbformat_minor": 2
}
