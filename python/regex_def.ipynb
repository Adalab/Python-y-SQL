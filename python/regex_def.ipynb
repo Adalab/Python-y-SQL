{
 "cells": [
  {
   "cell_type": "code",
   "execution_count": 1,
   "metadata": {},
   "outputs": [],
   "source": [
    "email = open(\"email.txt\", \"r\").read()"
   ]
  },
  {
   "cell_type": "code",
   "execution_count": 4,
   "metadata": {},
   "outputs": [],
   "source": [
    "def limpieza_email(email):\n",
    "\n",
    "    \"\"\" Definimos un diccionario para presentar los resultados y listas vacías para los valores del diccionario\"\"\"\n",
    "\n",
    "    dic_datos_email = {}\n",
    "    direccion_email = []\n",
    "    remitentes = []\n",
    "    fecha_envio = []\n",
    "    lista_asunto = []\n",
    "\n",
    "    \"\"\"Importamos regex\"\"\"\n",
    "\n",
    "    import re\n",
    "\n",
    "    \"\"\" Buscamos la información del remitente, obteniendo emails y nombres, guardando el resultado en listas\"\"\"\n",
    "\n",
    "    info_remitente = re.findall('From:.*',email)\n",
    "    for correo in info_remitente:\n",
    "        direccion_email.append(re.findall('\\w+@\\w+\\.com', correo)[0])\n",
    "\n",
    "    for nombre in info_remitente:\n",
    "        remitentes.append(re.findall('\\\".*\\\"', nombre)[0].replace('\"', \"\"))\n",
    "\n",
    "    \"\"\" Obtenemos la fecha de envío y guardamos el resultado en lista\"\"\"\n",
    "\n",
    "    info_fecha = re.findall('Date:.*',email) \n",
    "    for fecha in info_fecha:\n",
    "        fecha_envio.append(re.findall('\\d+\\s\\w+\\s\\d{4}', fecha)[0])\n",
    "\n",
    "    \"\"\" Obtenemos el asunto y guardamos el resultado en lista\"\"\"\n",
    "\n",
    "    asunto = re.findall('Subject:.*', email)\n",
    "    for subject in asunto:\n",
    "        lista_asunto.append(re.findall('URGENT.*', subject)[0])\n",
    "\n",
    "    \"\"\" Creamos las keys del diccionario, que presentará los resultados, añadiendo además los valores obtenidos. Devolvemos un diccionario por pantalla\"\"\"\n",
    "\n",
    "    dic_datos_email['correos'] = direccion_email\n",
    "    dic_datos_email['estafadores'] = remitentes\n",
    "    dic_datos_email['fechas'] = fecha_envio\n",
    "    dic_datos_email['asunto'] = lista_asunto\n",
    "\n",
    "    return dic_datos_email"
   ]
  },
  {
   "cell_type": "code",
   "execution_count": 5,
   "metadata": {},
   "outputs": [
    {
     "data": {
      "text/plain": [
       "{'correos': ['bensul2004nng@spinfinder.com', 'james_ngola2002@maktoob.com'],\n",
       " 'estafadores': ['Mr. Ben Suleman', 'MR. JAMES NGOLA.'],\n",
       " 'fechas': ['31 Oct 2002', '31 Oct 2002'],\n",
       " 'asunto': ['URGENT ASSISTANCE /RELATIONSHIP (P)',\n",
       "  'URGENT BUSINESS ASSISTANCE AND PARTNERSHIP']}"
      ]
     },
     "execution_count": 5,
     "metadata": {},
     "output_type": "execute_result"
    }
   ],
   "source": [
    "limpieza_email(email)"
   ]
  }
 ],
 "metadata": {
  "kernelspec": {
   "display_name": "base",
   "language": "python",
   "name": "python3"
  },
  "language_info": {
   "codemirror_mode": {
    "name": "ipython",
    "version": 3
   },
   "file_extension": ".py",
   "mimetype": "text/x-python",
   "name": "python",
   "nbconvert_exporter": "python",
   "pygments_lexer": "ipython3",
   "version": "3.9.7"
  },
  "orig_nbformat": 4
 },
 "nbformat": 4,
 "nbformat_minor": 2
}
