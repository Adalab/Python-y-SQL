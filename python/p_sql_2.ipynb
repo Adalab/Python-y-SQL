{
 "cells": [
  {
   "attachments": {},
   "cell_type": "markdown",
   "metadata": {},
   "source": [
    "Volveremos a crear esa misma BBDD, pero esta vez desde Python.\n",
    "\n",
    "📌 NOTA Utilizad el nombre de la BBDD de mi_primerita_BBDD_Python\n",
    "\n",
    "📌 NOTA Cuando creeis las distintas tablas de vuestra BBDD repetereis la mismas lineas de código una y otra vez. Para evitar esto, crearos una función que nos sirva para crear tablas independientemente del contenido de la tabla. La función recibirá como parámetros:\n",
    "\n",
    "-Contraseña de la conexión al servidor.\n",
    "\n",
    "-Query para crear la tabla."
   ]
  },
  {
   "cell_type": "code",
   "execution_count": 18,
   "metadata": {},
   "outputs": [],
   "source": [
    "import mysql.connector\n"
   ]
  },
  {
   "cell_type": "code",
   "execution_count": 19,
   "metadata": {},
   "outputs": [
    {
     "name": "stdout",
     "output_type": "stream",
     "text": [
      "MySQLCursor: CREATE DATABASE mi_primerita_BBDD_Python\n"
     ]
    }
   ],
   "source": [
    "cnx = mysql.connector.connect(user='root', password='AlumnaAdalab',\n",
    "                              host='127.0.0.1',\n",
    "                              auth_plugin='mysql_native_password')\n",
    "\n",
    "mycursor = cnx.cursor()\n",
    "try:\n",
    "    mycursor.execute(\"CREATE DATABASE mi_primerita_BBDD_Python\")\n",
    "    print(mycursor)\n",
    "except mysql.connector.Error as err:\n",
    "    print(err)\n",
    "    print(\"Error Code:\", err.errno)\n",
    "    print(\"SQLSTATE\", err.sqlstate)\n",
    "    print(\"Message\", err.msg)"
   ]
  },
  {
   "cell_type": "code",
   "execution_count": 1,
   "metadata": {},
   "outputs": [],
   "source": [
    "def crear_tablas(contrasena, query):\n",
    "\n",
    "    \"\"\"La funcion permite crear tablas en sql inrtoduciendo contraseña y una query predefinida.\n",
    "    Antes es necesario crear una BBDD, en este caso \"mi_primerita_BBDD_Python\"\n",
    "    \"\"\"\n",
    "\n",
    "    import mysql.connector\n",
    "\n",
    "    cnx = mysql.connector.connect(user='root', password= contrasena,\n",
    "                                host='127.0.0.1', database='mi_primerita_BBDD_Python',\n",
    "                                auth_plugin='mysql_native_password')\n",
    "\n",
    "\n",
    "    mycursor = cnx.cursor()\n",
    "    try:\n",
    "        mycursor.execute(query)\n",
    "        print(mycursor)\n",
    "    except mysql.connector.Error as err:\n",
    "        print(err)\n",
    "        print(\"Error Code:\", err.errno)\n",
    "        print(\"SQLSTATE\", err.sqlstate)\n",
    "        print(\"Message\", err.msg)\n"
   ]
  },
  {
   "cell_type": "code",
   "execution_count": 21,
   "metadata": {},
   "outputs": [],
   "source": [
    "contrasena = 'AlumnaAdalab'\n"
   ]
  },
  {
   "cell_type": "code",
   "execution_count": 22,
   "metadata": {},
   "outputs": [],
   "source": [
    "crear_tabla_zapatillas = '''CREATE TABLE Zapatillas (\n",
    "\tidZapatilla INT NOT NULL AUTO_INCREMENT,\n",
    "    Modelo VARCHAR(45) NOT NULL,\n",
    "    Color VARCHAR(45) NOT NULL,\n",
    "    Talla INT NOT NULL,\n",
    "    PRIMARY KEY (idZapatilla))'''"
   ]
  },
  {
   "cell_type": "code",
   "execution_count": 23,
   "metadata": {},
   "outputs": [],
   "source": [
    "tabla_clientes = '''CREATE TABLE Clientes (\n",
    "\tidCliente INT NOT NULL AUTO_INCREMENT,\n",
    "    Nombre VARCHAR(45) NOT NULL,\n",
    "    Numero_telefono INT(9) NOT NULL,\n",
    "    Email VARCHAR(45) NOT NULL,\n",
    "    Direccion VARCHAR(45) NOT NULL,\n",
    "    Ciudad VARCHAR(45),\n",
    "    Provincia VARCHAR(45) NOT NULL,\n",
    "    Pais VARCHAR (45) NOT NULL,\n",
    "    Codigo_postal INT(9) NOT NULL,\n",
    "    PRIMARY KEY (idCliente))'''"
   ]
  },
  {
   "cell_type": "code",
   "execution_count": 24,
   "metadata": {},
   "outputs": [],
   "source": [
    "tabla_empleados = '''CREATE TABLE Empleados (\n",
    "\tidEmpleado INT NOT NULL AUTO_INCREMENT,\n",
    "    Nombre VARCHAR(45) NOT NULL,\n",
    "    Tienda VARCHAR (45) NOT NULL,\n",
    "    salario FLOAT,\n",
    "    fecha_incorporacion DATE NOT NULL,\n",
    "    PRIMARY KEY (idEmpleado))'''"
   ]
  },
  {
   "attachments": {},
   "cell_type": "markdown",
   "metadata": {},
   "source": [
    "📌 NOTA En esta última tabla tendremos que incluir todos los CONSTRAINTnecesarios para establecer los relaciones entre las tablas, donde tendremos que especificar:\n",
    "\n",
    "-Foreign Key\n",
    "\n",
    "-References"
   ]
  },
  {
   "cell_type": "code",
   "execution_count": 30,
   "metadata": {},
   "outputs": [],
   "source": [
    "tabla_facturas = '''CREATE TABLE Facturas (\n",
    "\tidFactura INT NOT NULL AUTO_INCREMENT,\n",
    "    idEmpleado INT NOT NULL,\n",
    "    idCliente INT NOT NULL,\n",
    "    idZapatilla INT NOT NULL,\n",
    "    Fecha DATE NOT NULL,\n",
    "    Total FLOAT NOT NULL,\n",
    "    PRIMARY KEY (idFactura),\n",
    "    CONSTRAINT `fk_facturas_clientes`\n",
    "\t\tFOREIGN KEY (idCliente)\n",
    "        REFERENCES Clientes (idCliente) ON DELETE CASCADE ON UPDATE CASCADE,\n",
    "\tCONSTRAINT `fk_facturas_zapatilla`\n",
    "\t\tFOREIGN KEY (idZapatilla)\n",
    "        REFERENCES Zapatillas (idZapatilla) ON DELETE CASCADE ON UPDATE CASCADE,\n",
    "\tCONSTRAINT `fk_factura_empleado`\n",
    "\t\tFOREIGN KEY (idEmpleado)\n",
    "        REFERENCES Empleados (idEmpleado) ON DELETE CASCADE ON UPDATE CASCADE)'''"
   ]
  },
  {
   "cell_type": "code",
   "execution_count": 26,
   "metadata": {},
   "outputs": [
    {
     "name": "stdout",
     "output_type": "stream",
     "text": [
      "MySQLCursor: CREATE TABLE Zapatillas (\n",
      "\tidZapatilla I..\n"
     ]
    }
   ],
   "source": [
    "#Creamos la tabla \"zapatillas\"\n",
    "crear_tablas(contrasena, crear_tabla_zapatillas)"
   ]
  },
  {
   "cell_type": "code",
   "execution_count": 27,
   "metadata": {},
   "outputs": [
    {
     "name": "stdout",
     "output_type": "stream",
     "text": [
      "MySQLCursor: CREATE TABLE Clientes (\n",
      "\tidCliente INT N..\n"
     ]
    }
   ],
   "source": [
    "#Creamos la tabla \"clientes\"\n",
    "crear_tablas(contrasena, tabla_clientes)"
   ]
  },
  {
   "cell_type": "code",
   "execution_count": 28,
   "metadata": {},
   "outputs": [
    {
     "name": "stdout",
     "output_type": "stream",
     "text": [
      "MySQLCursor: CREATE TABLE Empleados (\n",
      "\tidEmpleado INT..\n"
     ]
    }
   ],
   "source": [
    "#Creamos la tabla \"empleados\"\n",
    "crear_tablas(contrasena, tabla_empleados)"
   ]
  },
  {
   "cell_type": "code",
   "execution_count": 31,
   "metadata": {},
   "outputs": [
    {
     "name": "stdout",
     "output_type": "stream",
     "text": [
      "MySQLCursor: CREATE TABLE Facturas (\n",
      "\tidFactura INT N..\n"
     ]
    }
   ],
   "source": [
    "#Creamos la tabla \"facturas\"\n",
    "crear_tablas(contrasena, tabla_facturas)"
   ]
  }
 ],
 "metadata": {
  "kernelspec": {
   "display_name": "base",
   "language": "python",
   "name": "python3"
  },
  "language_info": {
   "codemirror_mode": {
    "name": "ipython",
    "version": 3
   },
   "file_extension": ".py",
   "mimetype": "text/x-python",
   "name": "python",
   "nbconvert_exporter": "python",
   "pygments_lexer": "ipython3",
   "version": "3.9.7"
  },
  "orig_nbformat": 4
 },
 "nbformat": 4,
 "nbformat_minor": 2
}
